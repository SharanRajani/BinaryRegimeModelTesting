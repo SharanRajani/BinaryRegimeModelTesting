{
 "cells": [
  {
   "cell_type": "code",
   "execution_count": 1,
   "metadata": {},
   "outputs": [],
   "source": [
    "import numpy as np\n",
    "import pandas as pd\n",
    "import simple_return as sr\n",
    "import statistics as sc\n",
    "import stdev\n",
    "from scipy.stats import kurtosis, skew\n",
    "import matplotlib.pyplot as plt\n",
    "from scipy.stats import norm\n",
    "import pickle"
   ]
  },
  {
   "cell_type": "code",
   "execution_count": 2,
   "metadata": {},
   "outputs": [],
   "source": [
    "dt=5./(250*360)\n",
    "delta=dt\n",
    "sdt=np.sqrt(dt)\n",
    "x=pd.ExcelFile('/home/thegodfather/Desktop/IISER/Codes&Data2/NIFTY Indices_5-Minute Data_For Anindya.xlsx')"
   ]
  },
  {
   "cell_type": "code",
   "execution_count": 3,
   "metadata": {},
   "outputs": [],
   "source": [
    "z=x.sheet_names\n",
    "lz=len(z)\n",
    "y=[]\n",
    "for r in z:\n",
    "    y.append(x.parse(r))\n",
    "N=[len(y[i]) for i in range(lz)]"
   ]
  },
  {
   "cell_type": "code",
   "execution_count": 4,
   "metadata": {},
   "outputs": [],
   "source": [
    "def rev(x):\n",
    "    zz=[]\n",
    "    for i in reversed(x):\n",
    "        zz.append(i)\n",
    "    return(zz)"
   ]
  },
  {
   "cell_type": "code",
   "execution_count": 5,
   "metadata": {},
   "outputs": [],
   "source": [
    "price=[rev(np.array(y[j].Close)) for j in range(lz)]\n",
    "ret_five=[sr.s_ret(np.array(price[j],dtype=float)) for j in range(lz)]\n",
    "oldret=[]\n",
    "for i in range(lz):\n",
    "    oldret.append(ret_five[i].copy())\n",
    "rbar=[np.mean(ret_five[j]) for j in range(lz)]"
   ]
  },
  {
   "cell_type": "code",
   "execution_count": 6,
   "metadata": {},
   "outputs": [],
   "source": [
    "def vola(ret_m):\n",
    "    ret_m=np.array(ret_m)\n",
    "    L=len(ret_m)\n",
    "    std_m=np.array([stdev.sd(np.array(ret_m[i],dtype=float)) for i in range(L)])\n",
    "    volatility_m= std_m\n",
    "    return(volatility_m)"
   ]
  },
  {
   "cell_type": "code",
   "execution_count": 7,
   "metadata": {},
   "outputs": [],
   "source": [
    "SD=vola(ret_five)\n",
    "SDSquare=SD**2"
   ]
  },
  {
   "cell_type": "markdown",
   "metadata": {},
   "source": [
    "ret=ret_five[0]\n",
    "rBar=rbar[0]\n",
    "SD2=SDSquare[0]\n",
    "n=N[0]"
   ]
  },
  {
   "cell_type": "code",
   "execution_count": 8,
   "metadata": {},
   "outputs": [],
   "source": [
    "def CalNewRet(ret,rBar,SD2,n):\n",
    "    V=0\n",
    "    lambdaHat=0\n",
    "    p=2*10**(-4)\n",
    "    sigmaHat=0\n",
    "    for i in range(20):\n",
    "        sigmaHat=np.sqrt((SD2-(lambdaHat*delta*V))/delta)\n",
    "        const =norm.ppf((1-(p/2)), loc=0, scale=1)*sigmaHat*sdt\n",
    "        card=0\n",
    "        flag=[0]*(n-1)\n",
    "        for j in range(0,n-1):\n",
    "    #         print(j)\n",
    "            if((ret[j]-rBar)>const):\n",
    "                card+=1\n",
    "                flag[j]=1\n",
    "        lambdaHat=((card)/(n*delta))\n",
    "        rsum=0\n",
    "        for j in range(0,n-1):\n",
    "            if(flag[j]==1):\n",
    "                rsum+=((ret[j]-rBar)**2)\n",
    "        V=(rsum)/(card-1)\n",
    "    #     print(\"Iteration {}\".format(i+1))\n",
    "    #     print(\"sigmaHat={}\".format(sigmaHat))\n",
    "    #     print(\"lambdaHat={}\".format(lambdaHat))\n",
    "    #     print(\"V={}\".format(V))\n",
    "    #     print(\"Card={}\".format(card))\n",
    "    #     print(\"C={}\".format(const))\n",
    "    #     print(\"\\n\")\n",
    "    c=const\n",
    "    x=0\n",
    "    for r in ret:\n",
    "        exc=r-rBar\n",
    "        if(abs(exc)>c):\n",
    "            x+=1\n",
    "            l=ret.index(r)\n",
    "            ret[l]=rBar\n",
    "#             for i in range(l,len(ret)):\n",
    "#                 ret[i]=ret[i]-exc\n",
    "#     print(x)"
   ]
  },
  {
   "cell_type": "code",
   "execution_count": 9,
   "metadata": {},
   "outputs": [],
   "source": [
    "for i in range(lz):\n",
    "    CalNewRet(ret_five[i],rbar[i],SDSquare[i],N[i])"
   ]
  },
  {
   "cell_type": "code",
   "execution_count": 10,
   "metadata": {},
   "outputs": [
    {
     "name": "stdout",
     "output_type": "stream",
     "text": [
      "1.3436213637286906e-05\n"
     ]
    }
   ],
   "source": [
    "print(np.mean(oldret[0]))"
   ]
  },
  {
   "cell_type": "code",
   "execution_count": 11,
   "metadata": {},
   "outputs": [
    {
     "name": "stdout",
     "output_type": "stream",
     "text": [
      "5.836108388004129e-06\n"
     ]
    }
   ],
   "source": [
    "print(np.mean((ret_five[0])))"
   ]
  },
  {
   "cell_type": "code",
   "execution_count": 12,
   "metadata": {},
   "outputs": [],
   "source": [
    "with open('/home/thegodfather/Desktop/IISER/Codes&Data2/oldreturns.pkl', 'wb') as f:\n",
    "    pickle.dump(oldret, f)"
   ]
  },
  {
   "cell_type": "markdown",
   "metadata": {},
   "source": [
    "max1=0\n",
    "for i in range(lz):\n",
    "    if(max1<len(ret_five[i])):\n",
    "        max1=len(ret_five[i])"
   ]
  },
  {
   "cell_type": "markdown",
   "metadata": {},
   "source": [
    "for i in range(lz):\n",
    "    if(len(ret_five[i])<max1):\n",
    "        diff=max1-len(ret_five[i])\n",
    "        for j in range(len(ret_five[i]),len(ret_five[i])+diff):\n",
    "            ret_five[i].append(0.0)"
   ]
  },
  {
   "cell_type": "markdown",
   "metadata": {},
   "source": [
    "writer=pd.ExcelWriter('/home/thegodfather/Desktop/IISER/Codes&Data2/NewReturns.xlsx',engine='xlsxwriter')\n",
    "df=pd.DataFrame({'RO1':ret_five[0],'RO2':ret_five[1],'RO3':ret_five[2],'RO4':ret_five[3],'RO5':ret_five[4],'RO6':ret_five[5],'RO7':ret_five[6],'RO8':ret_five[7],'RO9':ret_five[8],'R10':ret_five[9],'R11':ret_five[10],'R12':ret_five[11],'R13':ret_five[12],'R14':ret_five[13],'R15':ret_five[14],'R16':ret_five[15],'R17':ret_five[16],'R18':ret_five[17]},index=range(1,11174))\n",
    "df.to_excel(writer,sheet_name='sheet')\n",
    "writer.save()"
   ]
  },
  {
   "cell_type": "code",
   "execution_count": 13,
   "metadata": {},
   "outputs": [],
   "source": [
    "with open('/home/thegodfather/Desktop/IISER/Codes&Data2/returns.pkl', 'wb') as f:\n",
    "    pickle.dump(ret_five, f)"
   ]
  },
  {
   "cell_type": "code",
   "execution_count": 14,
   "metadata": {},
   "outputs": [],
   "source": [
    "with open('/home/thegodfather/Desktop/IISER/Codes&Data2/nn.pkl', 'wb') as f:\n",
    "    pickle.dump(N, f)"
   ]
  },
  {
   "cell_type": "code",
   "execution_count": 15,
   "metadata": {},
   "outputs": [],
   "source": [
    "with open('/home/thegodfather/Desktop/IISER/Codes&Data2/lz.pkl', 'wb') as f:\n",
    "    pickle.dump(lz, f)"
   ]
  }
 ],
 "metadata": {
  "kernelspec": {
   "display_name": "Python 3",
   "language": "python",
   "name": "python3"
  },
  "language_info": {
   "codemirror_mode": {
    "name": "ipython",
    "version": 3
   },
   "file_extension": ".py",
   "mimetype": "text/x-python",
   "name": "python",
   "nbconvert_exporter": "python",
   "pygments_lexer": "ipython3",
   "version": "3.6.6"
  }
 },
 "nbformat": 4,
 "nbformat_minor": 2
}
