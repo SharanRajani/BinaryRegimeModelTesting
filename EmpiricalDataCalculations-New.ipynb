{
 "cells": [
  {
   "cell_type": "code",
   "execution_count": 1,
   "metadata": {},
   "outputs": [],
   "source": [
    "import pickle\n",
    "import numpy as np\n",
    "import pandas as pd\n",
    "import duration\n",
    "import simple_return as sr\n",
    "import statistics as sc\n",
    "import stdev\n",
    "from scipy.stats import kurtosis, skew\n",
    "import matplotlib.pyplot as plt\n",
    "import pickle"
   ]
  },
  {
   "cell_type": "code",
   "execution_count": 2,
   "metadata": {},
   "outputs": [],
   "source": [
    "dt=5./(250*360)\n",
    "sdt=np.sqrt(dt)\n",
    "with open('/home/thegodfather/Desktop/IISER/Codes&Data2/returns.pkl','rb') as f:\n",
    "    ret_five = pickle.load(f)\n",
    "with open('/home/thegodfather/Desktop/IISER/Codes&Data2/nn.pkl','rb') as f:\n",
    "    N = pickle.load(f)\n",
    "with open('/home/thegodfather/Desktop/IISER/Codes&Data2/lz.pkl','rb') as f:\n",
    "    lz = pickle.load(f)    "
   ]
  },
  {
   "cell_type": "code",
   "execution_count": 3,
   "metadata": {},
   "outputs": [],
   "source": [
    "def vola(ret_m):\n",
    "    ret_m=np.array(ret_m)\n",
    "    L=len(ret_m)\n",
    "    n=20\n",
    "    new_ret_m=[np.array(ret_m[i:i+n]) for i in range(L-n)]\n",
    "    Ln=len(new_ret_m)\n",
    "    new_std_m=np.array([stdev.sd(new_ret_m[i]) for i in range(Ln)])\n",
    "    volatility_m= new_std_m/sdt\n",
    "    return(volatility_m)"
   ]
  },
  {
   "cell_type": "code",
   "execution_count": 4,
   "metadata": {},
   "outputs": [],
   "source": [
    "def drift(ret_m):\n",
    "    ret_m=np.array(ret_m)\n",
    "    L=len(ret_m)\n",
    "    n=20\n",
    "    new_ret_m=[np.array(ret_m[i:i+n]) for i in range(L-n)]\n",
    "    Ln=len(new_ret_m)\n",
    "    new_mean_m=np.array([np.mean(new_ret_m[i]) for i in range(Ln)])\n",
    "    drift_m= new_mean_m/dt\n",
    "    return(drift_m)"
   ]
  },
  {
   "cell_type": "code",
   "execution_count": 5,
   "metadata": {},
   "outputs": [],
   "source": [
    "# dur_m=[durationNew.durationNew(np.array(vola(*ret_five[j]))) for j in range(lz)]\n",
    "dur_m=[duration.duration(np.array(vola(ret_five[j]))) for j in range(lz)]"
   ]
  },
  {
   "cell_type": "code",
   "execution_count": 6,
   "metadata": {},
   "outputs": [],
   "source": [
    "vol=[np.array(vola(ret_five[j])) for j in range(lz)]\n",
    "si1=[]\n",
    "si2=[]"
   ]
  },
  {
   "cell_type": "code",
   "execution_count": 7,
   "metadata": {},
   "outputs": [],
   "source": [
    "with open('/home/thegodfather/Desktop/IISER/Codes&Data2/Fresh/Squeeze/vol.pkl', 'wb') as f:\n",
    "    pickle.dump(vol, f)"
   ]
  },
  {
   "cell_type": "code",
   "execution_count": 8,
   "metadata": {},
   "outputs": [],
   "source": [
    "# svol=np.sort(vol[0])\n",
    "# plt.plot(range(len(vol[0])),svol)"
   ]
  },
  {
   "cell_type": "code",
   "execution_count": 9,
   "metadata": {},
   "outputs": [],
   "source": [
    "#print(len(vol))"
   ]
  },
  {
   "cell_type": "code",
   "execution_count": 10,
   "metadata": {},
   "outputs": [],
   "source": [
    "tvola=[np.mean(np.array(vola(ret_five[j]))) for j in range(lz)]\n",
    "tdrift=[np.mean(np.array(drift(ret_five[j]))) for j in range(lz)]\n",
    "# si1=[(tvola[j]/p) for j in range(lz)]\n",
    "# si2=[0.0]*(lz)"
   ]
  },
  {
   "cell_type": "markdown",
   "metadata": {},
   "source": [
    "for j in range(lz):\n",
    "    if(tvola[j]-((1-p)*(np.percentile(vol[j],85))))>0:\n",
    "        si1.append(np.percentile(vol[j],85))\n",
    "    else:\n",
    "        si1.append(tvola[j]/(1-p))"
   ]
  },
  {
   "cell_type": "markdown",
   "metadata": {},
   "source": [
    "for j in range(lz):\n",
    "    if(tvola[j]-((1-p)*(np.min(vol[j]))))>0:\n",
    "        si1.append(np.min(vol[j]))\n",
    "    else:\n",
    "        si1.append(tvola[j]/(1-p))"
   ]
  },
  {
   "cell_type": "markdown",
   "metadata": {},
   "source": [
    "for j in range(lz):\n",
    "    si1.append(0.0)"
   ]
  },
  {
   "cell_type": "markdown",
   "metadata": {},
   "source": [
    "si2=[((tvola[j]-((1-p)*si1[j]))/p) for j in range(lz)]"
   ]
  },
  {
   "cell_type": "code",
   "execution_count": 11,
   "metadata": {},
   "outputs": [],
   "source": [
    "m_dura=[np.mean(np.array(dur_m[j],dtype=float)) for j in range(lz)]\n",
    "s_dura=[stdev.sd(np.array(dur_m[j],dtype=float)) for j in range(lz)]\n",
    "w_dura=[skew(np.array(dur_m[j],dtype=float)) for j in range(lz)]\n",
    "k_dura=[kurtosis(np.array(dur_m[j],dtype=float),fisher=False) for j in range(lz)]\n",
    "lend=[len(np.array(dur_m[j],dtype=float)) for j in range(lz)]"
   ]
  },
  {
   "cell_type": "code",
   "execution_count": 12,
   "metadata": {},
   "outputs": [],
   "source": [
    "ind=['I%02d'%(i+1) for i in range(lz)]\n",
    "writer=pd.ExcelWriter('/home/thegodfather/Desktop/IISER/Codes&Data2/Fresh/Squeeze/Stat.xlsx',engine='xlsxwriter')\n",
    "df=pd.DataFrame({'N':N,'Mean':m_dura,'SD':s_dura,'Skew':w_dura,'Kurtosis':k_dura,'Len':lend,'tdrift':tdrift,'tvola':tvola}, index=ind)\n",
    "df.to_excel(writer,sheet_name='sheet')\n",
    "writer.save()"
   ]
  }
 ],
 "metadata": {
  "kernelspec": {
   "display_name": "Python 3",
   "language": "python",
   "name": "python3"
  },
  "language_info": {
   "codemirror_mode": {
    "name": "ipython",
    "version": 3
   },
   "file_extension": ".py",
   "mimetype": "text/x-python",
   "name": "python",
   "nbconvert_exporter": "python",
   "pygments_lexer": "ipython3",
   "version": "3.6.6"
  }
 },
 "nbformat": 4,
 "nbformat_minor": 2
}
