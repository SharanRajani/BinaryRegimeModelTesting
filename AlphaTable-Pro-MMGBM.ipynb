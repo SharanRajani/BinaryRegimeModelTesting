{
 "cells": [
  {
   "cell_type": "code",
   "execution_count": 20,
   "metadata": {},
   "outputs": [],
   "source": [
    "import pandas as pd\n",
    "import numpy as np\n",
    "import statistics as sc\n",
    "#import scipy\n",
    "from scipy.stats import kurtosis, skew\n",
    "#import matplotlib.pyplot as plt\n",
    "from collections import OrderedDict"
   ]
  },
  {
   "cell_type": "code",
   "execution_count": 21,
   "metadata": {},
   "outputs": [],
   "source": [
    "def counting(a,x):\n",
    "    count=0\n",
    "    for j in range(len(x)):\n",
    "        if x[j] < a:\n",
    "            count+=1\n",
    "    return(count)"
   ]
  },
  {
   "cell_type": "code",
   "execution_count": 22,
   "metadata": {},
   "outputs": [],
   "source": [
    "x= pd.ExcelFile('/home/sharan/Desktop/Transport/IISER/ClusterOutput/Squeeze/Stat.xlsx')\n",
    "page=x.parse(0)\n",
    "N=page.N\n",
    "t1star=page.Mean\n",
    "t2star=page.SD\n",
    "t3star=page.Skew\n",
    "t4star=page.Kurtosis"
   ]
  },
  {
   "cell_type": "code",
   "execution_count": 23,
   "metadata": {},
   "outputs": [],
   "source": [
    "# read the duration excel files\n",
    "ID=['I%02d'%(i+1) for i in range(18)]\n",
    "RE=[]\n",
    "name=\"/home/sharan/Desktop/Transport/IISER/ClusterOutput/Squeeze/MMGBM/\"\n",
    "for idd,_ in enumerate(ID):\n",
    "    ASL1=[];ASL2=[];ASL3=[];ASL4=[];\n",
    "    for theta in range(5,17,1):\n",
    "        strname=name+_+\"/theta\"+str(theta)+\".xlsx\"\n",
    "#         print(strname)\n",
    "        dur_file=pd.ExcelFile(strname)\n",
    "        dur_sheets=dur_file.sheet_names\n",
    "        lds=len(dur_sheets)\n",
    "#         print(lds)\n",
    "        for sheet in range(0,lds):\n",
    "#             print(sheet)\n",
    "            stats=dur_file.parse(sheet)\n",
    "            t1=np.array(stats.T1)\n",
    "            t2=np.array(stats.T2)\n",
    "            t3=np.array(stats.T3)\n",
    "            t4=np.array(stats.T4)\n",
    "            L=len(t1)\n",
    "            a=counting(t1star[idd],t1);ab=L-a\n",
    "            b=counting(t2star[idd],t2);bb=L-b\n",
    "            c=counting(t3star[idd],t3);cb=L-c\n",
    "            d=counting(t4star[idd],t4);db=L-d\n",
    "            alpha1=min(a,ab)\n",
    "            alpha2=min(b,bb)\n",
    "            alpha3=min(c,cb);alpha4=min(d,db)\n",
    "            asl1=alpha1/L;asl2=min(alpha1,alpha2)/L\n",
    "            asl3=min(alpha1,alpha2,alpha3)/L\n",
    "            asl4=min(alpha1,alpha2,alpha3,alpha4)/L\n",
    "            ASL1.append(asl1);ASL2.append(asl2);ASL3.append(asl3);ASL4.append(asl4)\n",
    "    RE.append([max(ASL1),max(ASL2),max(ASL3),max(ASL4)])\n",
    "RE1=[RE[i][0] for i in range(len(ID))]\n",
    "RE2=[RE[i][1] for i in range(len(ID))]\n",
    "RE3=[RE[i][2] for i in range(len(ID))]\n",
    "RE4=[RE[i][3] for i in range(len(ID))]"
   ]
  },
  {
   "cell_type": "code",
   "execution_count": 24,
   "metadata": {},
   "outputs": [],
   "source": [
    "strname=\"SqueezeAlphaMMGBM.xlsx\"\n",
    "writer=pd.ExcelWriter(strname,engine='xlsxwriter')\n",
    "df=pd.DataFrame({'Alpha1':RE1,'Alpha2':RE2,'Alpha3':RE3,'Alpha4':RE4},index=range(1,19))\n",
    "df.to_excel(writer,sheet_name=strname)\n",
    "writer.save()"
   ]
  }
 ],
 "metadata": {
  "kernelspec": {
   "display_name": "Python 3",
   "language": "python",
   "name": "python3"
  },
  "language_info": {
   "codemirror_mode": {
    "name": "ipython",
    "version": 3
   },
   "file_extension": ".py",
   "mimetype": "text/x-python",
   "name": "python",
   "nbconvert_exporter": "python",
   "pygments_lexer": "ipython3",
   "version": "3.6.6"
  }
 },
 "nbformat": 4,
 "nbformat_minor": 2
}
