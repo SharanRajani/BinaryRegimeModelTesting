{
 "cells": [
  {
   "cell_type": "code",
   "execution_count": 21,
   "metadata": {},
   "outputs": [],
   "source": [
    "import matplotlib.pyplot as plt\n",
    "import gbm\n",
    "import mgbm\n",
    "import sgbm\n",
    "import stdev\n",
    "import simple_return as sr\n",
    "import duration\n",
    "# import durationNew\n",
    "import numpy as np\n",
    "import pandas as pd\n",
    "import statistics as sc\n",
    "from scipy.stats import kurtosis, skew"
   ]
  },
  {
   "cell_type": "code",
   "execution_count": 22,
   "metadata": {},
   "outputs": [],
   "source": [
    "# N=10000;p=85\n",
    "# mu=0.241851845471164\n",
    "# si=0.07871329243839084\n",
    "seed=range(0,201) \n",
    "dt=5./(250*360)\n",
    "sdt=np.sqrt(dt)\n",
    "t1=[]\n",
    "t2=[]\n",
    "t3=[]\n",
    "t4=[]"
   ]
  },
  {
   "cell_type": "code",
   "execution_count": 23,
   "metadata": {},
   "outputs": [],
   "source": [
    "x=pd.ExcelFile('/home/sharan/Desktop/Transport/IISER/ClusterOutput/Squeeze/Stat.xlsx')\n",
    "page=x.parse(0)"
   ]
  },
  {
   "cell_type": "code",
   "execution_count": 24,
   "metadata": {},
   "outputs": [],
   "source": [
    "tdrift=np.array(page.tdrift)\n",
    "tvola=np.array(page.tvola)\n",
    "Neach=np.array(page.N)\n",
    "# print(len(tvola))"
   ]
  },
  {
   "cell_type": "code",
   "execution_count": 25,
   "metadata": {},
   "outputs": [],
   "source": [
    "t1star=np.array(page.Mean)\n",
    "t2star=np.array(page.SD)\n",
    "t3star=np.array(page.Skew)\n",
    "t4star=np.array(page.Kurtosis)\n",
    "# print(t1star)"
   ]
  },
  {
   "cell_type": "code",
   "execution_count": 26,
   "metadata": {},
   "outputs": [],
   "source": [
    "for i in range(18):\n",
    "    N = Neach[i]\n",
    "    mu = tdrift[i]\n",
    "    si = tvola[i]\n",
    "    GM_g=[]\n",
    "    GS_g=[]\n",
    "    GW_g=[]\n",
    "    GK_g=[]    \n",
    "#     print(i,\" \",N,\" \",mu,\" \",si)\n",
    "    for j in range(0,200):\n",
    "        sg=gbm.gbm(dt,N,mu,si,seed[j]) \n",
    "        ret_g=sr.s_ret(np.array(sg,dtype=float))\n",
    "        ret_g=np.array(ret_g)\n",
    "        L=len(ret_g)\n",
    "        n=20\n",
    "        new_ret_g=[np.array(ret_g[i:i+n]) for i in range(L-n)]\n",
    "        Ln=len(new_ret_g)\n",
    "        new_std_g=np.array([stdev.sd(new_ret_g[i]) for i in range(Ln)])\n",
    "        volatility_g= new_std_g/sdt\n",
    "        dur_g=duration.duration(np.array(volatility_g))\n",
    "        dur_g=np.array(dur_g,dtype=float)\n",
    "        GM_g.append(np.mean(dur_g))\n",
    "        GS_g.append(stdev.sd(dur_g))\n",
    "        GW_g.append(skew(dur_g))\n",
    "        GK_g.append(kurtosis(dur_g,fisher=False))\n",
    "    t1.append(GM_g)\n",
    "    t2.append(GS_g)\n",
    "    t3.append(GW_g)\n",
    "    t4.append(GK_g)"
   ]
  },
  {
   "cell_type": "code",
   "execution_count": 27,
   "metadata": {},
   "outputs": [],
   "source": [
    "writer=pd.ExcelWriter('/home/sharan/Desktop/Transport/IISER/ClusterOutput/Squeeze/GBM/t1FinalSqueeze.xlsx',engine='xlsxwriter')\n",
    "df=pd.DataFrame({'IO1':t1[0],'IO2':t1[1],'IO3':t1[2],'IO4':t1[3],'IO5':t1[4],'IO6':t1[5],'IO7':t1[6],'IO8':t1[7],'IO9':t1[8],'I10':t1[9],'I11':t1[10],'I12':t1[11],'I13':t1[12],'I14':t1[13],'I15':t1[14],'I16':t1[15],'I17':t1[16],'I18':t1[17]},index=range(1,201))\n",
    "df.to_excel(writer,sheet_name='sheet')\n",
    "writer.save()"
   ]
  },
  {
   "cell_type": "code",
   "execution_count": 28,
   "metadata": {},
   "outputs": [],
   "source": [
    "writer=pd.ExcelWriter('/home/sharan/Desktop/Transport/IISER/ClusterOutput/Squeeze/GBM/t2FinalSqueeze.xlsx',engine='xlsxwriter')\n",
    "df=pd.DataFrame({'IO1':t2[0],'IO2':t2[1],'IO3':t2[2],'IO4':t2[3],'IO5':t2[4],'IO6':t2[5],'IO7':t2[6],'IO8':t2[7],'IO9':t2[8],'I10':t2[9],'I11':t2[10],'I12':t2[11],'I13':t2[12],'I14':t2[13],'I15':t2[14],'I16':t2[15],'I17':t2[16],'I18':t2[17]},index=range(1,201))\n",
    "df.to_excel(writer,sheet_name='sheet')\n",
    "writer.save()"
   ]
  },
  {
   "cell_type": "code",
   "execution_count": 29,
   "metadata": {},
   "outputs": [],
   "source": [
    "writer=pd.ExcelWriter('/home/sharan/Desktop/Transport/IISER/ClusterOutput/Squeeze/GBM/t3FinalSqueeze.xlsx',engine='xlsxwriter')\n",
    "df=pd.DataFrame({'IO1':t3[0],'IO2':t3[1],'IO3':t3[2],'IO4':t3[3],'IO5':t3[4],'IO6':t3[5],'IO7':t3[6],'IO8':t3[7],'IO9':t3[8],'I10':t3[9],'I11':t3[10],'I12':t3[11],'I13':t3[12],'I14':t3[13],'I15':t3[14],'I16':t3[15],'I17':t3[16],'I18':t3[17]},index=range(1,201))\n",
    "df.to_excel(writer,sheet_name='sheet')\n",
    "writer.save()"
   ]
  },
  {
   "cell_type": "code",
   "execution_count": 30,
   "metadata": {},
   "outputs": [],
   "source": [
    "writer=pd.ExcelWriter('/home/sharan/Desktop/Transport/IISER/ClusterOutput/Squeeze/GBM/t4FinalSqueeze.xlsx',engine='xlsxwriter')\n",
    "df=pd.DataFrame({'IO1':t4[0],'IO2':t4[1],'IO3':t4[2],'IO4':t4[3],'IO5':t4[4],'IO6':t4[5],'IO7':t4[6],'IO8':t4[7],'IO9':t4[8],'I10':t4[9],'I11':t4[10],'I12':t4[11],'I13':t4[12],'I14':t4[13],'I15':t4[14],'I16':t4[15],'I17':t4[16],'I18':t4[17]},index=range(1,201))\n",
    "df.to_excel(writer,sheet_name='sheet')\n",
    "writer.save()"
   ]
  }
 ],
 "metadata": {
  "kernelspec": {
   "display_name": "Python 3",
   "language": "python",
   "name": "python3"
  },
  "language_info": {
   "codemirror_mode": {
    "name": "ipython",
    "version": 3
   },
   "file_extension": ".py",
   "mimetype": "text/x-python",
   "name": "python",
   "nbconvert_exporter": "python",
   "pygments_lexer": "ipython3",
   "version": "3.6.6"
  }
 },
 "nbformat": 4,
 "nbformat_minor": 2
}
